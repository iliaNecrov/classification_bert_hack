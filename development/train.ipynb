{
 "cells": [
  {
   "cell_type": "code",
   "execution_count": 1,
   "id": "b13b3b05-f952-40b0-ad64-6430d113b2b2",
   "metadata": {},
   "outputs": [],
   "source": [
    "import flair\n",
    "flair.set_seed(2)\n",
    "\n",
    "from flair.data import Corpus, Sentence\n",
    "from flair.datasets import TREC_6, CSVClassificationCorpus\n",
    "from flair.embeddings import TransformerDocumentEmbeddings\n",
    "from flair.models import TextClassifier\n",
    "from flair.trainers import ModelTrainer\n",
    "\n",
    "import torch\n",
    "import argparse\n",
    "import json\n",
    "import csv\n",
    "import re\n",
    "import time\n",
    "\n",
    "import pandas as pd"
   ]
  },
  {
   "cell_type": "code",
   "execution_count": 2,
   "id": "87ab1c76-4006-4436-a1c7-c766cd1be01d",
   "metadata": {},
   "outputs": [],
   "source": [
    "learning_rate = 5.0e-5\n",
    "mini_batch_size = 16\n",
    "max_epochs = 8\n",
    "model_name = \"sergeyzh/rubert-tiny-turbo\""
   ]
  },
  {
   "cell_type": "code",
   "execution_count": 3,
   "id": "a265f3b7-9ff0-4ab8-adcc-550d338d9d8f",
   "metadata": {},
   "outputs": [
    {
     "name": "stdout",
     "output_type": "stream",
     "text": [
      "2024-11-16 23:02:49,738 Reading data from flair_data\n",
      "2024-11-16 23:02:49,746 Train: flair_data/train.csv\n",
      "2024-11-16 23:02:49,751 Dev: flair_data/dev.csv\n",
      "2024-11-16 23:02:49,755 Test: flair_data/test.csv\n",
      "2024-11-16 23:02:50,057 Computing label dictionary. Progress:\n"
     ]
    },
    {
     "name": "stderr",
     "output_type": "stream",
     "text": [
      "0it [00:00, ?it/s]\n",
      "4068it [00:33, 121.38it/s]"
     ]
    },
    {
     "name": "stdout",
     "output_type": "stream",
     "text": [
      "2024-11-16 23:03:23,953 Dictionary created for label 'label' with 9 values: FOOD_GOODS (seen 922 times), NON_FOOD_GOODS (seen 895 times), SERVICE (seen 884 times), LEASING (seen 380 times), LOAN (seen 380 times), REALE_STATE (seen 256 times), BANK_SERVICE (seen 215 times), NOT_CLASSIFIED (seen 117 times), TAX (seen 19 times)\n"
     ]
    },
    {
     "name": "stderr",
     "output_type": "stream",
     "text": [
      "\n"
     ]
    }
   ],
   "source": [
    "\n",
    "        \n",
    "column_name_map = {0: \"text\", 1: \"label\"}\n",
    "corpus: Corpus = CSVClassificationCorpus(\"flair_data\",\n",
    "                                            column_name_map,\n",
    "                                            skip_header=False,\n",
    "                                            delimiter='\\t',    # tab-separated files\n",
    "                                            label_type='label')\n",
    "\n",
    "\n",
    "\n",
    "label_dict = corpus.make_label_dictionary(label_type='label')"
   ]
  },
  {
   "cell_type": "code",
   "execution_count": 4,
   "id": "c5052424-bc86-4855-ac6d-ccf6e2bd57fa",
   "metadata": {
    "scrolled": true
   },
   "outputs": [
    {
     "data": {
      "application/vnd.jupyter.widget-view+json": {
       "model_id": "5a5d3fce953f4ca3899180705297491b",
       "version_major": 2,
       "version_minor": 0
      },
      "text/plain": [
       "tokenizer_config.json:   0%|          | 0.00/1.29k [00:00<?, ?B/s]"
      ]
     },
     "metadata": {},
     "output_type": "display_data"
    },
    {
     "data": {
      "application/vnd.jupyter.widget-view+json": {
       "model_id": "a4ed027e814544f2b723aa5abb2a6649",
       "version_major": 2,
       "version_minor": 0
      },
      "text/plain": [
       "vocab.txt:   0%|          | 0.00/1.16M [00:00<?, ?B/s]"
      ]
     },
     "metadata": {},
     "output_type": "display_data"
    },
    {
     "data": {
      "application/vnd.jupyter.widget-view+json": {
       "model_id": "48cf72d76d6141398cb8281f7553be28",
       "version_major": 2,
       "version_minor": 0
      },
      "text/plain": [
       "tokenizer.json:   0%|          | 0.00/2.41M [00:00<?, ?B/s]"
      ]
     },
     "metadata": {},
     "output_type": "display_data"
    },
    {
     "data": {
      "application/vnd.jupyter.widget-view+json": {
       "model_id": "c52c14129d174d668c5fd4d284ac4806",
       "version_major": 2,
       "version_minor": 0
      },
      "text/plain": [
       "special_tokens_map.json:   0%|          | 0.00/732 [00:00<?, ?B/s]"
      ]
     },
     "metadata": {},
     "output_type": "display_data"
    },
    {
     "data": {
      "application/vnd.jupyter.widget-view+json": {
       "model_id": "787bacfe897440dea5c9f479b83d1def",
       "version_major": 2,
       "version_minor": 0
      },
      "text/plain": [
       "config.json:   0%|          | 0.00/712 [00:00<?, ?B/s]"
      ]
     },
     "metadata": {},
     "output_type": "display_data"
    },
    {
     "data": {
      "application/vnd.jupyter.widget-view+json": {
       "model_id": "97e5702d2eed4e7faa861358a2d6f54e",
       "version_major": 2,
       "version_minor": 0
      },
      "text/plain": [
       "model.safetensors:   0%|          | 0.00/117M [00:00<?, ?B/s]"
      ]
     },
     "metadata": {},
     "output_type": "display_data"
    },
    {
     "name": "stdout",
     "output_type": "stream",
     "text": [
      "2024-11-16 23:04:58,173 ----------------------------------------------------------------------------------------------------\n",
      "2024-11-16 23:04:58,247 Model: \"TextClassifier(\n",
      "  (embeddings): TransformerDocumentEmbeddings(\n",
      "    (model): BertModel(\n",
      "      (embeddings): BertEmbeddings(\n",
      "        (word_embeddings): Embedding(83829, 312, padding_idx=0)\n",
      "        (position_embeddings): Embedding(2048, 312)\n",
      "        (token_type_embeddings): Embedding(2, 312)\n",
      "        (LayerNorm): LayerNorm((312,), eps=1e-12, elementwise_affine=True)\n",
      "        (dropout): Dropout(p=0.1, inplace=False)\n",
      "      )\n",
      "      (encoder): BertEncoder(\n",
      "        (layer): ModuleList(\n",
      "          (0-2): 3 x BertLayer(\n",
      "            (attention): BertAttention(\n",
      "              (self): BertSdpaSelfAttention(\n",
      "                (query): Linear(in_features=312, out_features=312, bias=True)\n",
      "                (key): Linear(in_features=312, out_features=312, bias=True)\n",
      "                (value): Linear(in_features=312, out_features=312, bias=True)\n",
      "                (dropout): Dropout(p=0.1, inplace=False)\n",
      "              )\n",
      "              (output): BertSelfOutput(\n",
      "                (dense): Linear(in_features=312, out_features=312, bias=True)\n",
      "                (LayerNorm): LayerNorm((312,), eps=1e-12, elementwise_affine=True)\n",
      "                (dropout): Dropout(p=0.1, inplace=False)\n",
      "              )\n",
      "            )\n",
      "            (intermediate): BertIntermediate(\n",
      "              (dense): Linear(in_features=312, out_features=600, bias=True)\n",
      "              (intermediate_act_fn): GELUActivation()\n",
      "            )\n",
      "            (output): BertOutput(\n",
      "              (dense): Linear(in_features=600, out_features=312, bias=True)\n",
      "              (LayerNorm): LayerNorm((312,), eps=1e-12, elementwise_affine=True)\n",
      "              (dropout): Dropout(p=0.1, inplace=False)\n",
      "            )\n",
      "          )\n",
      "        )\n",
      "      )\n",
      "      (pooler): BertPooler(\n",
      "        (dense): Linear(in_features=312, out_features=312, bias=True)\n",
      "        (activation): Tanh()\n",
      "      )\n",
      "    )\n",
      "  )\n",
      "  (decoder): Linear(in_features=312, out_features=9, bias=True)\n",
      "  (dropout): Dropout(p=0.0, inplace=False)\n",
      "  (locked_dropout): LockedDropout(p=0.0)\n",
      "  (word_dropout): WordDropout(p=0.0)\n",
      "  (loss_function): CrossEntropyLoss()\n",
      "  (weights): None\n",
      "  (weight_tensor) None\n",
      ")\"\n",
      "2024-11-16 23:04:58,248 ----------------------------------------------------------------------------------------------------\n",
      "2024-11-16 23:04:58,250 Corpus: 4068 train + 180 dev + 500 test sentences\n",
      "2024-11-16 23:04:58,251 ----------------------------------------------------------------------------------------------------\n",
      "2024-11-16 23:04:58,253 Train:  4248 sentences\n",
      "2024-11-16 23:04:58,254         (train_with_dev=True, train_with_test=False)\n",
      "2024-11-16 23:04:58,256 ----------------------------------------------------------------------------------------------------\n",
      "2024-11-16 23:04:58,334 Training Params:\n",
      "2024-11-16 23:04:58,336  - learning_rate: \"5e-05\" \n",
      "2024-11-16 23:04:58,339  - mini_batch_size: \"16\"\n",
      "2024-11-16 23:04:58,341  - max_epochs: \"8\"\n",
      "2024-11-16 23:04:58,343  - shuffle: \"True\"\n",
      "2024-11-16 23:04:58,344 ----------------------------------------------------------------------------------------------------\n",
      "2024-11-16 23:04:58,346 Plugins:\n",
      "2024-11-16 23:04:58,348  - LinearScheduler | warmup_fraction: '0.1'\n",
      "2024-11-16 23:04:58,349 ----------------------------------------------------------------------------------------------------\n",
      "2024-11-16 23:04:58,351 Final evaluation on model after last epoch (final-model.pt)\n",
      "2024-11-16 23:04:58,353  - metric: \"('micro avg', 'f1-score')\"\n",
      "2024-11-16 23:04:58,434 ----------------------------------------------------------------------------------------------------\n",
      "2024-11-16 23:04:58,436 Computation:\n",
      "2024-11-16 23:04:58,443  - compute on device: cuda:0\n",
      "2024-11-16 23:04:58,445  - embedding storage: none\n",
      "2024-11-16 23:04:58,446 ----------------------------------------------------------------------------------------------------\n",
      "2024-11-16 23:04:58,447 Model training base path: \"models/rubert_1731798298\"\n",
      "2024-11-16 23:04:58,449 ----------------------------------------------------------------------------------------------------\n",
      "2024-11-16 23:04:58,450 ----------------------------------------------------------------------------------------------------\n",
      "2024-11-16 23:05:13,244 epoch 1 - iter 26/266 - loss 2.20152985 - time (sec): 14.71 - samples/sec: 28.28 - lr: 0.000006 - momentum: 0.000000\n",
      "2024-11-16 23:05:23,141 epoch 1 - iter 52/266 - loss 2.06931666 - time (sec): 24.60 - samples/sec: 33.81 - lr: 0.000012 - momentum: 0.000000\n",
      "2024-11-16 23:05:34,542 epoch 1 - iter 78/266 - loss 1.93137749 - time (sec): 36.01 - samples/sec: 34.66 - lr: 0.000018 - momentum: 0.000000\n",
      "2024-11-16 23:05:45,852 epoch 1 - iter 104/266 - loss 1.77945656 - time (sec): 47.32 - samples/sec: 35.17 - lr: 0.000024 - momentum: 0.000000\n",
      "2024-11-16 23:05:55,952 epoch 1 - iter 130/266 - loss 1.63051208 - time (sec): 57.42 - samples/sec: 36.23 - lr: 0.000030 - momentum: 0.000000\n",
      "2024-11-16 23:06:05,758 epoch 1 - iter 156/266 - loss 1.44327349 - time (sec): 67.22 - samples/sec: 37.13 - lr: 0.000036 - momentum: 0.000000\n",
      "2024-11-16 23:06:16,149 epoch 1 - iter 182/266 - loss 1.27931615 - time (sec): 77.61 - samples/sec: 37.52 - lr: 0.000042 - momentum: 0.000000\n",
      "2024-11-16 23:06:17,066 epoch 1 - iter 208/266 - loss 1.14182907 - time (sec): 78.53 - samples/sec: 42.38 - lr: 0.000049 - momentum: 0.000000\n",
      "2024-11-16 23:06:18,274 epoch 1 - iter 234/266 - loss 1.02459753 - time (sec): 79.74 - samples/sec: 46.95 - lr: 0.000049 - momentum: 0.000000\n",
      "2024-11-16 23:06:19,169 epoch 1 - iter 260/266 - loss 0.93124334 - time (sec): 80.63 - samples/sec: 51.59 - lr: 0.000049 - momentum: 0.000000\n",
      "2024-11-16 23:06:19,379 ----------------------------------------------------------------------------------------------------\n",
      "2024-11-16 23:06:19,381 EPOCH 1 done: loss 0.9149 - lr: 0.000049\n",
      "2024-11-16 23:06:19,382 Saving model at current epoch since 'save_model_each_k_epochs=1' was set\n"
     ]
    },
    {
     "name": "stderr",
     "output_type": "stream",
     "text": [
      "100%|██████████| 32/32 [00:00<00:00, 60.11it/s]"
     ]
    },
    {
     "name": "stdout",
     "output_type": "stream",
     "text": [
      "2024-11-16 23:06:20,268 TEST : loss 0.1925896853208542 - f1-score (micro avg)  0.946\n"
     ]
    },
    {
     "name": "stderr",
     "output_type": "stream",
     "text": [
      "\n"
     ]
    },
    {
     "name": "stdout",
     "output_type": "stream",
     "text": [
      "2024-11-16 23:06:20,435 ----------------------------------------------------------------------------------------------------\n",
      "2024-11-16 23:06:21,270 epoch 2 - iter 26/266 - loss 0.05012252 - time (sec): 0.83 - samples/sec: 499.38 - lr: 0.000048 - momentum: 0.000000\n",
      "2024-11-16 23:06:22,098 epoch 2 - iter 52/266 - loss 0.06440232 - time (sec): 1.66 - samples/sec: 501.06 - lr: 0.000047 - momentum: 0.000000\n",
      "2024-11-16 23:06:22,808 epoch 2 - iter 78/266 - loss 0.06861015 - time (sec): 2.37 - samples/sec: 526.44 - lr: 0.000047 - momentum: 0.000000\n",
      "2024-11-16 23:06:23,401 epoch 2 - iter 104/266 - loss 0.07366403 - time (sec): 2.96 - samples/sec: 561.39 - lr: 0.000046 - momentum: 0.000000\n",
      "2024-11-16 23:06:24,084 epoch 2 - iter 130/266 - loss 0.06932443 - time (sec): 3.65 - samples/sec: 570.27 - lr: 0.000045 - momentum: 0.000000\n",
      "2024-11-16 23:06:34,654 epoch 2 - iter 156/266 - loss 0.06884417 - time (sec): 14.22 - samples/sec: 175.56 - lr: 0.000045 - momentum: 0.000000\n",
      "2024-11-16 23:06:44,550 epoch 2 - iter 182/266 - loss 0.06498900 - time (sec): 24.11 - samples/sec: 120.77 - lr: 0.000044 - momentum: 0.000000\n",
      "2024-11-16 23:06:54,150 epoch 2 - iter 208/266 - loss 0.06511992 - time (sec): 33.71 - samples/sec: 98.71 - lr: 0.000043 - momentum: 0.000000\n",
      "2024-11-16 23:07:04,561 epoch 2 - iter 234/266 - loss 0.06628178 - time (sec): 44.12 - samples/sec: 84.85 - lr: 0.000043 - momentum: 0.000000\n",
      "2024-11-16 23:07:14,141 epoch 2 - iter 260/266 - loss 0.06183414 - time (sec): 53.70 - samples/sec: 77.46 - lr: 0.000042 - momentum: 0.000000\n",
      "2024-11-16 23:07:16,051 ----------------------------------------------------------------------------------------------------\n",
      "2024-11-16 23:07:16,054 EPOCH 2 done: loss 0.0609 - lr: 0.000042\n",
      "2024-11-16 23:07:16,056 Saving model at current epoch since 'save_model_each_k_epochs=1' was set\n"
     ]
    },
    {
     "name": "stderr",
     "output_type": "stream",
     "text": [
      "100%|██████████| 32/32 [00:12<00:00,  2.50it/s]\n"
     ]
    },
    {
     "name": "stdout",
     "output_type": "stream",
     "text": [
      "2024-11-16 23:07:33,944 TEST : loss 0.028102189302444458 - f1-score (micro avg)  0.978\n",
      "2024-11-16 23:07:37,245 ----------------------------------------------------------------------------------------------------\n",
      "2024-11-16 23:07:48,050 epoch 3 - iter 26/266 - loss 0.02856504 - time (sec): 10.80 - samples/sec: 38.52 - lr: 0.000041 - momentum: 0.000000\n",
      "2024-11-16 23:07:58,542 epoch 3 - iter 52/266 - loss 0.03410903 - time (sec): 21.29 - samples/sec: 39.07 - lr: 0.000040 - momentum: 0.000000\n",
      "2024-11-16 23:08:08,341 epoch 3 - iter 78/266 - loss 0.02299275 - time (sec): 31.09 - samples/sec: 40.14 - lr: 0.000040 - momentum: 0.000000\n",
      "2024-11-16 23:08:16,751 epoch 3 - iter 104/266 - loss 0.02746639 - time (sec): 39.50 - samples/sec: 42.12 - lr: 0.000039 - momentum: 0.000000\n",
      "2024-11-16 23:08:24,373 epoch 3 - iter 130/266 - loss 0.02735022 - time (sec): 47.12 - samples/sec: 44.14 - lr: 0.000038 - momentum: 0.000000\n",
      "2024-11-16 23:08:26,493 epoch 3 - iter 156/266 - loss 0.02310641 - time (sec): 49.24 - samples/sec: 50.69 - lr: 0.000038 - momentum: 0.000000\n",
      "2024-11-16 23:08:27,516 epoch 3 - iter 182/266 - loss 0.02826730 - time (sec): 50.27 - samples/sec: 57.93 - lr: 0.000037 - momentum: 0.000000\n",
      "2024-11-16 23:08:28,457 epoch 3 - iter 208/266 - loss 0.03145158 - time (sec): 51.21 - samples/sec: 64.99 - lr: 0.000036 - momentum: 0.000000\n",
      "2024-11-16 23:08:29,493 epoch 3 - iter 234/266 - loss 0.02848160 - time (sec): 52.24 - samples/sec: 71.66 - lr: 0.000036 - momentum: 0.000000\n",
      "2024-11-16 23:08:30,468 epoch 3 - iter 260/266 - loss 0.02762317 - time (sec): 53.22 - samples/sec: 78.17 - lr: 0.000035 - momentum: 0.000000\n",
      "2024-11-16 23:08:30,673 ----------------------------------------------------------------------------------------------------\n",
      "2024-11-16 23:08:30,675 EPOCH 3 done: loss 0.0271 - lr: 0.000035\n",
      "2024-11-16 23:08:30,676 Saving model at current epoch since 'save_model_each_k_epochs=1' was set\n"
     ]
    },
    {
     "name": "stderr",
     "output_type": "stream",
     "text": [
      "100%|██████████| 32/32 [00:00<00:00, 65.52it/s]"
     ]
    },
    {
     "name": "stdout",
     "output_type": "stream",
     "text": [
      "2024-11-16 23:08:31,502 TEST : loss 0.010993684642016888 - f1-score (micro avg)  0.998\n"
     ]
    },
    {
     "name": "stderr",
     "output_type": "stream",
     "text": [
      "\n"
     ]
    },
    {
     "name": "stdout",
     "output_type": "stream",
     "text": [
      "2024-11-16 23:08:31,941 ----------------------------------------------------------------------------------------------------\n",
      "2024-11-16 23:08:33,034 epoch 4 - iter 26/266 - loss 0.03474860 - time (sec): 1.09 - samples/sec: 381.90 - lr: 0.000034 - momentum: 0.000000\n",
      "2024-11-16 23:08:34,023 epoch 4 - iter 52/266 - loss 0.02982021 - time (sec): 2.08 - samples/sec: 400.27 - lr: 0.000033 - momentum: 0.000000\n",
      "2024-11-16 23:08:35,115 epoch 4 - iter 78/266 - loss 0.03202887 - time (sec): 3.17 - samples/sec: 393.65 - lr: 0.000033 - momentum: 0.000000\n",
      "2024-11-16 23:08:36,041 epoch 4 - iter 104/266 - loss 0.03307392 - time (sec): 4.10 - samples/sec: 406.21 - lr: 0.000032 - momentum: 0.000000\n",
      "2024-11-16 23:08:36,890 epoch 4 - iter 130/266 - loss 0.03480223 - time (sec): 4.95 - samples/sec: 420.57 - lr: 0.000031 - momentum: 0.000000\n",
      "2024-11-16 23:08:37,734 epoch 4 - iter 156/266 - loss 0.03444546 - time (sec): 5.79 - samples/sec: 431.16 - lr: 0.000031 - momentum: 0.000000\n",
      "2024-11-16 23:08:38,536 epoch 4 - iter 182/266 - loss 0.02974744 - time (sec): 6.59 - samples/sec: 441.79 - lr: 0.000030 - momentum: 0.000000\n",
      "2024-11-16 23:08:39,385 epoch 4 - iter 208/266 - loss 0.02837345 - time (sec): 7.44 - samples/sec: 447.29 - lr: 0.000029 - momentum: 0.000000\n",
      "2024-11-16 23:08:40,239 epoch 4 - iter 234/266 - loss 0.02526852 - time (sec): 8.29 - samples/sec: 451.39 - lr: 0.000029 - momentum: 0.000000\n",
      "2024-11-16 23:08:41,100 epoch 4 - iter 260/266 - loss 0.02838590 - time (sec): 9.16 - samples/sec: 454.37 - lr: 0.000028 - momentum: 0.000000\n",
      "2024-11-16 23:08:41,301 ----------------------------------------------------------------------------------------------------\n",
      "2024-11-16 23:08:41,303 EPOCH 4 done: loss 0.0278 - lr: 0.000028\n",
      "2024-11-16 23:08:41,304 Saving model at current epoch since 'save_model_each_k_epochs=1' was set\n"
     ]
    },
    {
     "name": "stderr",
     "output_type": "stream",
     "text": [
      "100%|██████████| 32/32 [00:00<00:00, 66.77it/s]"
     ]
    },
    {
     "name": "stdout",
     "output_type": "stream",
     "text": [
      "2024-11-16 23:08:42,093 TEST : loss 0.01877407729625702 - f1-score (micro avg)  0.996\n"
     ]
    },
    {
     "name": "stderr",
     "output_type": "stream",
     "text": [
      "\n"
     ]
    },
    {
     "name": "stdout",
     "output_type": "stream",
     "text": [
      "2024-11-16 23:08:42,267 ----------------------------------------------------------------------------------------------------\n",
      "2024-11-16 23:08:43,120 epoch 5 - iter 26/266 - loss 0.01588987 - time (sec): 0.85 - samples/sec: 489.27 - lr: 0.000027 - momentum: 0.000000\n",
      "2024-11-16 23:08:44,215 epoch 5 - iter 52/266 - loss 0.00802344 - time (sec): 1.95 - samples/sec: 427.69 - lr: 0.000026 - momentum: 0.000000\n",
      "2024-11-16 23:08:45,032 epoch 5 - iter 78/266 - loss 0.01988553 - time (sec): 2.76 - samples/sec: 451.81 - lr: 0.000026 - momentum: 0.000000\n",
      "2024-11-16 23:08:45,855 epoch 5 - iter 104/266 - loss 0.02262911 - time (sec): 3.59 - samples/sec: 464.06 - lr: 0.000025 - momentum: 0.000000\n",
      "2024-11-16 23:08:46,681 epoch 5 - iter 130/266 - loss 0.01829372 - time (sec): 4.41 - samples/sec: 471.49 - lr: 0.000024 - momentum: 0.000000\n",
      "2024-11-16 23:08:47,516 epoch 5 - iter 156/266 - loss 0.01992066 - time (sec): 5.25 - samples/sec: 475.71 - lr: 0.000024 - momentum: 0.000000\n",
      "2024-11-16 23:08:48,364 epoch 5 - iter 182/266 - loss 0.01889597 - time (sec): 6.09 - samples/sec: 477.85 - lr: 0.000023 - momentum: 0.000000\n",
      "2024-11-16 23:08:49,196 epoch 5 - iter 208/266 - loss 0.02199089 - time (sec): 6.93 - samples/sec: 480.50 - lr: 0.000022 - momentum: 0.000000\n",
      "2024-11-16 23:08:50,060 epoch 5 - iter 234/266 - loss 0.02002198 - time (sec): 7.79 - samples/sec: 480.63 - lr: 0.000022 - momentum: 0.000000\n",
      "2024-11-16 23:08:50,899 epoch 5 - iter 260/266 - loss 0.02302068 - time (sec): 8.63 - samples/sec: 482.04 - lr: 0.000021 - momentum: 0.000000\n",
      "2024-11-16 23:08:51,087 ----------------------------------------------------------------------------------------------------\n",
      "2024-11-16 23:08:51,088 EPOCH 5 done: loss 0.0226 - lr: 0.000021\n",
      "2024-11-16 23:08:51,089 Saving model at current epoch since 'save_model_each_k_epochs=1' was set\n"
     ]
    },
    {
     "name": "stderr",
     "output_type": "stream",
     "text": [
      "100%|██████████| 32/32 [00:00<00:00, 64.17it/s]"
     ]
    },
    {
     "name": "stdout",
     "output_type": "stream",
     "text": [
      "2024-11-16 23:08:51,892 TEST : loss 0.007578937336802483 - f1-score (micro avg)  0.996\n"
     ]
    },
    {
     "name": "stderr",
     "output_type": "stream",
     "text": [
      "\n"
     ]
    },
    {
     "name": "stdout",
     "output_type": "stream",
     "text": [
      "2024-11-16 23:08:52,074 ----------------------------------------------------------------------------------------------------\n",
      "2024-11-16 23:08:52,949 epoch 6 - iter 26/266 - loss 0.01247400 - time (sec): 0.87 - samples/sec: 476.93 - lr: 0.000020 - momentum: 0.000000\n",
      "2024-11-16 23:08:53,782 epoch 6 - iter 52/266 - loss 0.00628657 - time (sec): 1.71 - samples/sec: 487.84 - lr: 0.000020 - momentum: 0.000000\n",
      "2024-11-16 23:08:54,607 epoch 6 - iter 78/266 - loss 0.01387852 - time (sec): 2.53 - samples/sec: 493.08 - lr: 0.000019 - momentum: 0.000000\n",
      "2024-11-16 23:08:55,743 epoch 6 - iter 104/266 - loss 0.02104696 - time (sec): 3.67 - samples/sec: 453.81 - lr: 0.000018 - momentum: 0.000000\n",
      "2024-11-16 23:08:56,594 epoch 6 - iter 130/266 - loss 0.01749062 - time (sec): 4.52 - samples/sec: 460.38 - lr: 0.000018 - momentum: 0.000000\n",
      "2024-11-16 23:08:57,387 epoch 6 - iter 156/266 - loss 0.01738614 - time (sec): 5.31 - samples/sec: 470.02 - lr: 0.000017 - momentum: 0.000000\n",
      "2024-11-16 23:08:58,205 epoch 6 - iter 182/266 - loss 0.01822135 - time (sec): 6.13 - samples/sec: 475.18 - lr: 0.000016 - momentum: 0.000000\n",
      "2024-11-16 23:08:59,052 epoch 6 - iter 208/266 - loss 0.01954218 - time (sec): 6.98 - samples/sec: 477.09 - lr: 0.000015 - momentum: 0.000000\n",
      "2024-11-16 23:09:00,040 epoch 6 - iter 234/266 - loss 0.01776855 - time (sec): 7.96 - samples/sec: 470.14 - lr: 0.000015 - momentum: 0.000000\n",
      "2024-11-16 23:09:00,925 epoch 6 - iter 260/266 - loss 0.02275424 - time (sec): 8.85 - samples/sec: 470.11 - lr: 0.000014 - momentum: 0.000000\n",
      "2024-11-16 23:09:01,123 ----------------------------------------------------------------------------------------------------\n",
      "2024-11-16 23:09:01,125 EPOCH 6 done: loss 0.0223 - lr: 0.000014\n",
      "2024-11-16 23:09:01,126 Saving model at current epoch since 'save_model_each_k_epochs=1' was set\n"
     ]
    },
    {
     "name": "stderr",
     "output_type": "stream",
     "text": [
      "100%|██████████| 32/32 [00:00<00:00, 60.06it/s]"
     ]
    },
    {
     "name": "stdout",
     "output_type": "stream",
     "text": [
      "2024-11-16 23:09:01,992 TEST : loss 0.014418857172131538 - f1-score (micro avg)  0.996\n"
     ]
    },
    {
     "name": "stderr",
     "output_type": "stream",
     "text": [
      "\n"
     ]
    },
    {
     "name": "stdout",
     "output_type": "stream",
     "text": [
      "2024-11-16 23:09:02,173 ----------------------------------------------------------------------------------------------------\n",
      "2024-11-16 23:09:02,886 epoch 7 - iter 26/266 - loss 0.00016161 - time (sec): 0.71 - samples/sec: 585.12 - lr: 0.000013 - momentum: 0.000000\n",
      "2024-11-16 23:09:03,743 epoch 7 - iter 52/266 - loss 0.00817073 - time (sec): 1.57 - samples/sec: 530.43 - lr: 0.000013 - momentum: 0.000000\n",
      "2024-11-16 23:09:04,883 epoch 7 - iter 78/266 - loss 0.00548269 - time (sec): 2.71 - samples/sec: 460.76 - lr: 0.000012 - momentum: 0.000000\n",
      "2024-11-16 23:09:05,870 epoch 7 - iter 104/266 - loss 0.00596403 - time (sec): 3.70 - samples/sec: 450.32 - lr: 0.000011 - momentum: 0.000000\n",
      "2024-11-16 23:09:06,888 epoch 7 - iter 130/266 - loss 0.01844916 - time (sec): 4.71 - samples/sec: 441.29 - lr: 0.000011 - momentum: 0.000000\n",
      "2024-11-16 23:09:08,099 epoch 7 - iter 156/266 - loss 0.01981378 - time (sec): 5.92 - samples/sec: 421.34 - lr: 0.000010 - momentum: 0.000000\n",
      "2024-11-16 23:09:08,947 epoch 7 - iter 182/266 - loss 0.02436721 - time (sec): 6.77 - samples/sec: 429.98 - lr: 0.000009 - momentum: 0.000000\n",
      "2024-11-16 23:09:09,787 epoch 7 - iter 208/266 - loss 0.02434937 - time (sec): 7.61 - samples/sec: 437.19 - lr: 0.000009 - momentum: 0.000000\n",
      "2024-11-16 23:09:10,594 epoch 7 - iter 234/266 - loss 0.02322579 - time (sec): 8.42 - samples/sec: 444.70 - lr: 0.000008 - momentum: 0.000000\n",
      "2024-11-16 23:09:11,475 epoch 7 - iter 260/266 - loss 0.02252029 - time (sec): 9.30 - samples/sec: 447.28 - lr: 0.000007 - momentum: 0.000000\n",
      "2024-11-16 23:09:11,723 ----------------------------------------------------------------------------------------------------\n",
      "2024-11-16 23:09:11,725 EPOCH 7 done: loss 0.0221 - lr: 0.000007\n",
      "2024-11-16 23:09:11,727 Saving model at current epoch since 'save_model_each_k_epochs=1' was set\n"
     ]
    },
    {
     "name": "stderr",
     "output_type": "stream",
     "text": [
      "100%|██████████| 32/32 [00:00<00:00, 68.73it/s]"
     ]
    },
    {
     "name": "stdout",
     "output_type": "stream",
     "text": [
      "2024-11-16 23:09:12,530 TEST : loss 0.015175777487456799 - f1-score (micro avg)  0.996\n"
     ]
    },
    {
     "name": "stderr",
     "output_type": "stream",
     "text": [
      "\n"
     ]
    },
    {
     "name": "stdout",
     "output_type": "stream",
     "text": [
      "2024-11-16 23:09:12,694 ----------------------------------------------------------------------------------------------------\n",
      "2024-11-16 23:09:13,651 epoch 8 - iter 26/266 - loss 0.00051260 - time (sec): 0.96 - samples/sec: 435.36 - lr: 0.000006 - momentum: 0.000000\n",
      "2024-11-16 23:09:14,601 epoch 8 - iter 52/266 - loss 0.01078906 - time (sec): 1.91 - samples/sec: 436.68 - lr: 0.000006 - momentum: 0.000000\n",
      "2024-11-16 23:09:15,599 epoch 8 - iter 78/266 - loss 0.01460983 - time (sec): 2.90 - samples/sec: 429.88 - lr: 0.000005 - momentum: 0.000000\n",
      "2024-11-16 23:09:16,483 epoch 8 - iter 104/266 - loss 0.01450712 - time (sec): 3.79 - samples/sec: 439.37 - lr: 0.000004 - momentum: 0.000000\n",
      "2024-11-16 23:09:17,363 epoch 8 - iter 130/266 - loss 0.01565372 - time (sec): 4.67 - samples/sec: 445.69 - lr: 0.000004 - momentum: 0.000000\n",
      "2024-11-16 23:09:18,245 epoch 8 - iter 156/266 - loss 0.01306274 - time (sec): 5.55 - samples/sec: 449.78 - lr: 0.000003 - momentum: 0.000000\n",
      "2024-11-16 23:09:19,138 epoch 8 - iter 182/266 - loss 0.01422701 - time (sec): 6.44 - samples/sec: 452.05 - lr: 0.000002 - momentum: 0.000000\n",
      "2024-11-16 23:09:20,309 epoch 8 - iter 208/266 - loss 0.01761167 - time (sec): 7.61 - samples/sec: 437.12 - lr: 0.000002 - momentum: 0.000000\n",
      "2024-11-16 23:09:21,127 epoch 8 - iter 234/266 - loss 0.01699757 - time (sec): 8.43 - samples/sec: 444.06 - lr: 0.000001 - momentum: 0.000000\n",
      "2024-11-16 23:09:21,933 epoch 8 - iter 260/266 - loss 0.01818910 - time (sec): 9.24 - samples/sec: 450.34 - lr: 0.000000 - momentum: 0.000000\n",
      "2024-11-16 23:09:22,124 ----------------------------------------------------------------------------------------------------\n",
      "2024-11-16 23:09:22,125 EPOCH 8 done: loss 0.0179 - lr: 0.000000\n",
      "2024-11-16 23:09:22,127 Saving model at current epoch since 'save_model_each_k_epochs=1' was set\n"
     ]
    },
    {
     "name": "stderr",
     "output_type": "stream",
     "text": [
      "100%|██████████| 32/32 [00:00<00:00, 72.60it/s]"
     ]
    },
    {
     "name": "stdout",
     "output_type": "stream",
     "text": [
      "2024-11-16 23:09:22,855 TEST : loss 0.016288593411445618 - f1-score (micro avg)  0.996\n"
     ]
    },
    {
     "name": "stderr",
     "output_type": "stream",
     "text": [
      "\n"
     ]
    },
    {
     "name": "stdout",
     "output_type": "stream",
     "text": [
      "2024-11-16 23:09:23,270 ----------------------------------------------------------------------------------------------------\n",
      "2024-11-16 23:09:23,272 Testing using last state of model ...\n"
     ]
    },
    {
     "name": "stderr",
     "output_type": "stream",
     "text": [
      "100%|██████████| 32/32 [00:00<00:00, 62.98it/s]"
     ]
    },
    {
     "name": "stdout",
     "output_type": "stream",
     "text": [
      "2024-11-16 23:09:23,812 \n",
      "Results:\n",
      "- F-score (micro) 0.996\n",
      "- F-score (macro) 0.9976\n",
      "- Accuracy 0.996\n",
      "\n",
      "By class:\n",
      "                precision    recall  f1-score   support\n",
      "\n",
      "NON_FOOD_GOODS     1.0000    0.9792    0.9895        96\n",
      "    FOOD_GOODS     0.9890    1.0000    0.9945        90\n",
      "       SERVICE     0.9888    1.0000    0.9944        88\n",
      "  BANK_SERVICE     1.0000    1.0000    1.0000        49\n",
      "           TAX     1.0000    1.0000    1.0000        48\n",
      "          LOAN     1.0000    1.0000    1.0000        41\n",
      "       LEASING     1.0000    1.0000    1.0000        38\n",
      "   REALE_STATE     1.0000    1.0000    1.0000        27\n",
      "NOT_CLASSIFIED     1.0000    1.0000    1.0000        23\n",
      "\n",
      "      accuracy                         0.9960       500\n",
      "     macro avg     0.9975    0.9977    0.9976       500\n",
      "  weighted avg     0.9960    0.9960    0.9960       500\n",
      "\n",
      "2024-11-16 23:09:23,813 ----------------------------------------------------------------------------------------------------\n"
     ]
    },
    {
     "name": "stderr",
     "output_type": "stream",
     "text": [
      "\n"
     ]
    },
    {
     "data": {
      "text/plain": [
       "{'test_score': 0.996}"
      ]
     },
     "execution_count": 4,
     "metadata": {},
     "output_type": "execute_result"
    }
   ],
   "source": [
    "document_embeddings = TransformerDocumentEmbeddings(model_name, fine_tune=True)\n",
    "classifier = TextClassifier(document_embeddings, label_dictionary=label_dict, label_type='label')\n",
    "\n",
    "trainer = ModelTrainer(classifier, corpus)\n",
    "\n",
    "trainer.fine_tune(f'./models/rubert_{str(time.time()).split(\".\")[0]}',\n",
    "                    learning_rate=learning_rate,\n",
    "                    mini_batch_size=mini_batch_size,\n",
    "                    max_epochs=max_epochs,\n",
    "                    monitor_test=True, train_with_dev=True, save_model_each_k_epochs=1)"
   ]
  },
  {
   "cell_type": "code",
   "execution_count": 5,
   "id": "365b7a34-688f-4471-b80a-d7b2a48eabb6",
   "metadata": {},
   "outputs": [],
   "source": [
    "sentences = [sentence for sentence in corpus.test]\n",
    "real_tags = [sentence.tag for sentence in sentences]\n",
    "predicted_tags = []\n",
    "for i in range(0, len(sentences), 8):\n",
    "    sents = sentences[i:i+8]\n",
    "    classifier.predict(sents, mini_batch_size=8)\n",
    "    for sent in sents:\n",
    "        predicted_tags.append(sent.tag)"
   ]
  },
  {
   "cell_type": "code",
   "execution_count": 6,
   "id": "09c9e2a3-a32c-48fa-93b4-d94bc399eb20",
   "metadata": {},
   "outputs": [
    {
     "name": "stdout",
     "output_type": "stream",
     "text": [
      "Оплата за Уход за одеждой и обувью по счету 11837472833255495630 от 21.06.2024г. Сумма 4110-00\n",
      "| Real tag: | NON_FOOD_GOODS | Predicted tag: | SERVICE |\n",
      "\n",
      "Оплата за Крем Бархатные ручки Питательный для рук с маслом ши 80мл по счету 97745000424439727136 от 28 января 2023 Сумма 4890,00\n",
      "| Real tag: | NON_FOOD_GOODS | Predicted tag: | FOOD_GOODS |\n",
      "\n"
     ]
    }
   ],
   "source": [
    "for index in range(len(predicted_tags)):\n",
    "    if predicted_tags[index] != real_tags[index]:\n",
    "        print(corpus.test[index].text)\n",
    "        print(f\"| Real tag: | {real_tags[index]} | Predicted tag: | {predicted_tags[index]} |\\n\")"
   ]
  },
  {
   "cell_type": "code",
   "execution_count": null,
   "id": "8e0caef0-a798-4b88-a612-854c33b9ad22",
   "metadata": {},
   "outputs": [],
   "source": []
  },
  {
   "cell_type": "code",
   "execution_count": null,
   "id": "5a79773b-b482-4abf-b60c-83edb4fe30d0",
   "metadata": {},
   "outputs": [],
   "source": []
  }
 ],
 "metadata": {
  "kernelspec": {
   "display_name": "Python 3 (ipykernel)",
   "language": "python",
   "name": "python3"
  },
  "language_info": {
   "codemirror_mode": {
    "name": "ipython",
    "version": 3
   },
   "file_extension": ".py",
   "mimetype": "text/x-python",
   "name": "python",
   "nbconvert_exporter": "python",
   "pygments_lexer": "ipython3",
   "version": "3.10.13"
  }
 },
 "nbformat": 4,
 "nbformat_minor": 5
}
