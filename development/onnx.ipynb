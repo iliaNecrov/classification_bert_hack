{
 "cells": [
  {
   "cell_type": "code",
   "execution_count": 1,
   "id": "7c71f26e-b399-4570-90e0-502c8d809e05",
   "metadata": {},
   "outputs": [],
   "source": [
    "import os\n",
    "os.environ[\"CUDA_VISIBLE_DEVICES\"] = \"\""
   ]
  },
  {
   "cell_type": "code",
   "execution_count": 2,
   "id": "3a2d37f5-dbd5-4799-a52e-d80e5f9c8bd2",
   "metadata": {},
   "outputs": [],
   "source": [
    "# !pip install coloredlogs onnx onnxruntime"
   ]
  },
  {
   "cell_type": "code",
   "execution_count": 3,
   "id": "7fe713ee-d456-4ac4-8370-a70a88281283",
   "metadata": {},
   "outputs": [],
   "source": [
    "from flair.models import TextClassifier\n",
    "from flair.embeddings import TransformerWordEmbeddings, TransformerDocumentEmbeddings\n",
    "from flair.datasets import CSVClassificationCorpus\n",
    "from flair.data import Corpus, Sentence"
   ]
  },
  {
   "cell_type": "code",
   "execution_count": 4,
   "id": "c5306d8b-f5a4-4f08-a4d9-bf062168deb2",
   "metadata": {},
   "outputs": [],
   "source": [
    "model = TextClassifier.load(\"models/USER_base_1731794531/final-model.pt\")"
   ]
  },
  {
   "cell_type": "code",
   "execution_count": 5,
   "id": "89ab3a95-7bd6-484e-93f0-da33c935f110",
   "metadata": {},
   "outputs": [],
   "source": [
    "assert isinstance(model.embeddings, (TransformerWordEmbeddings, TransformerDocumentEmbeddings))"
   ]
  },
  {
   "cell_type": "code",
   "execution_count": 6,
   "id": "932f4e12-72b5-4b9a-8b9c-1cb37ffebfcf",
   "metadata": {},
   "outputs": [
    {
     "name": "stdout",
     "output_type": "stream",
     "text": [
      "2024-11-17 00:46:07,967 Reading data from flair_data\n",
      "2024-11-17 00:46:07,971 Train: flair_data/train.csv\n",
      "2024-11-17 00:46:07,973 Dev: flair_data/dev.csv\n",
      "2024-11-17 00:46:07,974 Test: flair_data/test.csv\n"
     ]
    }
   ],
   "source": [
    "column_name_map = {0: \"text\", 1: \"label\"}\n",
    "corpus: Corpus = CSVClassificationCorpus(\"flair_data\",\n",
    "                                            column_name_map,\n",
    "                                            skip_header=False,\n",
    "                                            delimiter='\\t',    # tab-separated files\n",
    "                                            label_type='label')"
   ]
  },
  {
   "cell_type": "code",
   "execution_count": 7,
   "id": "db21c8ce-4961-484d-8961-81f549c8543f",
   "metadata": {},
   "outputs": [],
   "source": [
    "test = list(corpus.test)[:100]"
   ]
  },
  {
   "cell_type": "code",
   "execution_count": 8,
   "id": "866c5e3e-4814-4201-96b6-711d2b8c72ee",
   "metadata": {},
   "outputs": [
    {
     "name": "stderr",
     "output_type": "stream",
     "text": [
      "  2%|▏         | 1/63 [00:22<22:58, 22.23s/it]\n",
      "\n",
      "KeyboardInterrupt\n",
      "\n"
     ]
    }
   ],
   "source": [
    "model.evaluate(corpus.test, verbose=True, mini_batch_size=8, gold_label_type='label') # 14 min - corpus.test"
   ]
  },
  {
   "cell_type": "code",
   "execution_count": 9,
   "id": "d26755c7-54ad-48c8-8c5b-873975f96488",
   "metadata": {},
   "outputs": [
    {
     "name": "stderr",
     "output_type": "stream",
     "text": [
      "/opt/conda/lib/python3.10/site-packages/transformers/models/deberta/modeling_deberta.py:646: TracerWarning: torch.tensor results are registered as constants in the trace. You can safely ignore this warning if you use this function to create tensors out of constant variables that would be the same every time you call this function. In any other case, this might cause the trace to be incorrect.\n",
      "  scale = torch.sqrt(torch.tensor(query_layer.size(-1), dtype=torch.float) * scale_factor)\n",
      "/opt/conda/lib/python3.10/site-packages/transformers/models/deberta/modeling_deberta.py:646: UserWarning: To copy construct from a tensor, it is recommended to use sourceTensor.clone().detach() or sourceTensor.clone().detach().requires_grad_(True), rather than torch.tensor(sourceTensor).\n",
      "  scale = torch.sqrt(torch.tensor(query_layer.size(-1), dtype=torch.float) * scale_factor)\n",
      "/opt/conda/lib/python3.10/site-packages/transformers/models/deberta/modeling_deberta.py:111: TracerWarning: torch.tensor results are registered as constants in the trace. You can safely ignore this warning if you use this function to create tensors out of constant variables that would be the same every time you call this function. In any other case, this might cause the trace to be incorrect.\n",
      "  output = input.masked_fill(rmask, torch.tensor(torch.finfo(input.dtype).min))\n"
     ]
    }
   ],
   "source": [
    "model.embeddings = model.embeddings.export_onnx(\"embeddings-user-base.onnx\", test[:10], providers=[ \"CPUExecutionProvider\"], session_options={})"
   ]
  },
  {
   "cell_type": "code",
   "execution_count": 10,
   "id": "8b8823a5-bb67-4551-abbe-52ae2d5d2b5b",
   "metadata": {},
   "outputs": [
    {
     "name": "stderr",
     "output_type": "stream",
     "text": [
      "  6%|▋         | 4/63 [00:18<04:28,  4.55s/it]\n",
      "\n",
      "KeyboardInterrupt\n",
      "\n"
     ]
    }
   ],
   "source": [
    "model.evaluate(corpus.test, verbose=True, mini_batch_size=8, gold_label_type='label') # 3 30 min"
   ]
  },
  {
   "cell_type": "code",
   "execution_count": 11,
   "id": "cb9c2dd3-43e2-45b3-9119-73b4d54abc3e",
   "metadata": {},
   "outputs": [],
   "source": [
    "model.save(\"model-onnx-user-base.pt\")"
   ]
  },
  {
   "cell_type": "code",
   "execution_count": 12,
   "id": "d1487dca-209a-4e85-95c4-19a1856fcf52",
   "metadata": {},
   "outputs": [
    {
     "name": "stderr",
     "output_type": "stream",
     "text": [
      "WARNING:root:Please consider to run pre-processing before quantization. Refer to example: https://github.com/microsoft/onnxruntime-inference-examples/blob/main/quantization/image_classification/cpu/ReadMe.md \n"
     ]
    }
   ],
   "source": [
    "model.embeddings.quantize_model(\n",
    "            \"embeddings-user-base-optimized-8bit.onnx\",  extra_options={\"DisableShapeInference\": True}, use_external_data_format=False\n",
    "        )"
   ]
  },
  {
   "cell_type": "code",
   "execution_count": 13,
   "id": "4d7d0a35-feb7-4d3d-ba0c-1e07b929aa37",
   "metadata": {},
   "outputs": [],
   "source": [
    "model.save(\"quant_model.pt\")"
   ]
  },
  {
   "cell_type": "code",
   "execution_count": null,
   "id": "ba745e60-bcd4-4840-9b7b-94d55a4e1852",
   "metadata": {},
   "outputs": [],
   "source": [
    "model = TextClassifier.load(\"model.pt\")"
   ]
  },
  {
   "cell_type": "code",
   "execution_count": null,
   "id": "346f4cea-bb62-468f-9f9f-39f242df9c39",
   "metadata": {
    "scrolled": true
   },
   "outputs": [],
   "source": [
    "model.evaluate(corpus.test, verbose=True, mini_batch_size=8, gold_label_type='label')"
   ]
  },
  {
   "cell_type": "code",
   "execution_count": null,
   "id": "6d4b24ae-4c72-4ed1-b74d-77adeb9530b2",
   "metadata": {},
   "outputs": [],
   "source": [
    "model.embeddings.onnx_model"
   ]
  },
  {
   "cell_type": "code",
   "execution_count": null,
   "id": "e7c1729f-85c6-44ea-bfb5-89d419032406",
   "metadata": {},
   "outputs": [],
   "source": []
  }
 ],
 "metadata": {
  "kernelspec": {
   "display_name": "Python 3 (ipykernel)",
   "language": "python",
   "name": "python3"
  },
  "language_info": {
   "codemirror_mode": {
    "name": "ipython",
    "version": 3
   },
   "file_extension": ".py",
   "mimetype": "text/x-python",
   "name": "python",
   "nbconvert_exporter": "python",
   "pygments_lexer": "ipython3",
   "version": "3.10.13"
  }
 },
 "nbformat": 4,
 "nbformat_minor": 5
}
