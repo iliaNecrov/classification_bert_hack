{
 "cells": [
  {
   "cell_type": "code",
   "execution_count": 1,
   "metadata": {},
   "outputs": [],
   "source": [
    "import os\n",
    "os.environ[\"CUDA_VISIBLE_DEVICES\"] = \"\""
   ]
  },
  {
   "cell_type": "code",
   "execution_count": 2,
   "metadata": {},
   "outputs": [],
   "source": [
    "import pandas as pd\n",
    "\n",
    "from inference.flair_model import TextClassifierModel\n",
    "from utils.model_downloading import download_model"
   ]
  },
  {
   "cell_type": "code",
   "execution_count": 9,
   "metadata": {},
   "outputs": [
    {
     "name": "stdout",
     "output_type": "stream",
     "text": [
      "Скачивание модели...\n",
      "Скачивание эмбедингов... (Может занять время)\n",
      "Скачивание прошло успешно!\n"
     ]
    }
   ],
   "source": [
    "download_model(\"tiny\")"
   ]
  },
  {
   "cell_type": "code",
   "execution_count": 10,
   "metadata": {},
   "outputs": [],
   "source": [
    "import pathlib\n",
    "temp = pathlib.PosixPath\n",
    "pathlib.PosixPath = pathlib.WindowsPath"
   ]
  },
  {
   "cell_type": "code",
   "execution_count": 11,
   "metadata": {},
   "outputs": [],
   "source": [
    "model = TextClassifierModel.load(\"model.pt\")"
   ]
  },
  {
   "cell_type": "code",
   "execution_count": 12,
   "metadata": {},
   "outputs": [],
   "source": [
    "data = pd.read_csv(\"data/payments_main.tsv\", sep='\\t', header=None, names=[\"index\", \"date\", \"summ\", \"texts\"])"
   ]
  },
  {
   "cell_type": "code",
   "execution_count": 13,
   "metadata": {},
   "outputs": [
    {
     "name": "stderr",
     "output_type": "stream",
     "text": [
      "Batch inference: 100%|██████████| 3125/3125 [01:37<00:00, 32.04it/s]\n"
     ]
    }
   ],
   "source": [
    "texts = data[\"texts\"]\n",
    "classes = model.predict(texts, 8)"
   ]
  },
  {
   "cell_type": "code",
   "execution_count": 14,
   "metadata": {},
   "outputs": [],
   "source": [
    "data[\"classes\"] = classes"
   ]
  },
  {
   "cell_type": "code",
   "execution_count": 16,
   "metadata": {},
   "outputs": [
    {
     "data": {
      "text/html": [
       "<div>\n",
       "<style scoped>\n",
       "    .dataframe tbody tr th:only-of-type {\n",
       "        vertical-align: middle;\n",
       "    }\n",
       "\n",
       "    .dataframe tbody tr th {\n",
       "        vertical-align: top;\n",
       "    }\n",
       "\n",
       "    .dataframe thead th {\n",
       "        text-align: right;\n",
       "    }\n",
       "</style>\n",
       "<table border=\"1\" class=\"dataframe\">\n",
       "  <thead>\n",
       "    <tr style=\"text-align: right;\">\n",
       "      <th></th>\n",
       "      <th>index</th>\n",
       "      <th>classes</th>\n",
       "    </tr>\n",
       "  </thead>\n",
       "  <tbody>\n",
       "    <tr>\n",
       "      <th>0</th>\n",
       "      <td>1</td>\n",
       "      <td>SERVICE</td>\n",
       "    </tr>\n",
       "    <tr>\n",
       "      <th>1</th>\n",
       "      <td>2</td>\n",
       "      <td>SERVICE</td>\n",
       "    </tr>\n",
       "    <tr>\n",
       "      <th>2</th>\n",
       "      <td>3</td>\n",
       "      <td>TAX</td>\n",
       "    </tr>\n",
       "    <tr>\n",
       "      <th>3</th>\n",
       "      <td>4</td>\n",
       "      <td>SERVICE</td>\n",
       "    </tr>\n",
       "    <tr>\n",
       "      <th>4</th>\n",
       "      <td>5</td>\n",
       "      <td>BANK_SERVICE</td>\n",
       "    </tr>\n",
       "    <tr>\n",
       "      <th>...</th>\n",
       "      <td>...</td>\n",
       "      <td>...</td>\n",
       "    </tr>\n",
       "    <tr>\n",
       "      <th>24995</th>\n",
       "      <td>24996</td>\n",
       "      <td>NON_FOOD_GOODS</td>\n",
       "    </tr>\n",
       "    <tr>\n",
       "      <th>24996</th>\n",
       "      <td>24997</td>\n",
       "      <td>TAX</td>\n",
       "    </tr>\n",
       "    <tr>\n",
       "      <th>24997</th>\n",
       "      <td>24998</td>\n",
       "      <td>BANK_SERVICE</td>\n",
       "    </tr>\n",
       "    <tr>\n",
       "      <th>24998</th>\n",
       "      <td>24999</td>\n",
       "      <td>TAX</td>\n",
       "    </tr>\n",
       "    <tr>\n",
       "      <th>24999</th>\n",
       "      <td>25000</td>\n",
       "      <td>FOOD_GOODS</td>\n",
       "    </tr>\n",
       "  </tbody>\n",
       "</table>\n",
       "<p>25000 rows × 2 columns</p>\n",
       "</div>"
      ],
      "text/plain": [
       "       index         classes\n",
       "0          1         SERVICE\n",
       "1          2         SERVICE\n",
       "2          3             TAX\n",
       "3          4         SERVICE\n",
       "4          5    BANK_SERVICE\n",
       "...      ...             ...\n",
       "24995  24996  NON_FOOD_GOODS\n",
       "24996  24997             TAX\n",
       "24997  24998    BANK_SERVICE\n",
       "24998  24999             TAX\n",
       "24999  25000      FOOD_GOODS\n",
       "\n",
       "[25000 rows x 2 columns]"
      ]
     },
     "execution_count": 16,
     "metadata": {},
     "output_type": "execute_result"
    }
   ],
   "source": [
    "data[[\"index\", \"classes\"]].to_c"
   ]
  },
  {
   "cell_type": "code",
   "execution_count": 19,
   "metadata": {},
   "outputs": [],
   "source": [
    "data[[\"index\", \"classes\"]].to_csv('data/output.tsv', sep='\\t', index=False, header=False)"
   ]
  },
  {
   "cell_type": "code",
   "execution_count": null,
   "metadata": {},
   "outputs": [],
   "source": []
  },
  {
   "cell_type": "code",
   "execution_count": null,
   "metadata": {},
   "outputs": [],
   "source": [
    "import boto3\n",
    "s3 = boto3.resource('s3', endpoint_url=ENDPOINT,\n",
    "                      aws_access_key_id=(\"YCAJEDYH8sOEKETe5gXbog3r7\"),\n",
    "                    aws_secret_access_key=(\"YCP86xjxXtmSoU5NjJslZIc_JuVjglPdOlQXf3h0\"))\n",
    "s3.Bucket(bucket_name).upload_file('./test.txt', 'test.txt')"
   ]
  },
  {
   "cell_type": "code",
   "execution_count": 24,
   "metadata": {},
   "outputs": [
    {
     "data": {
      "text/html": [
       "<div>\n",
       "<style scoped>\n",
       "    .dataframe tbody tr th:only-of-type {\n",
       "        vertical-align: middle;\n",
       "    }\n",
       "\n",
       "    .dataframe tbody tr th {\n",
       "        vertical-align: top;\n",
       "    }\n",
       "\n",
       "    .dataframe thead th {\n",
       "        text-align: right;\n",
       "    }\n",
       "</style>\n",
       "<table border=\"1\" class=\"dataframe\">\n",
       "  <thead>\n",
       "    <tr style=\"text-align: right;\">\n",
       "      <th></th>\n",
       "      <th>index</th>\n",
       "      <th>date</th>\n",
       "      <th>summ</th>\n",
       "      <th>text</th>\n",
       "    </tr>\n",
       "  </thead>\n",
       "  <tbody>\n",
       "    <tr>\n",
       "      <th>0</th>\n",
       "      <td>1</td>\n",
       "      <td>07.11.2024</td>\n",
       "      <td>40500.00</td>\n",
       "      <td>За тур.поездку по договору №001 от 27.01.2023г</td>\n",
       "    </tr>\n",
       "    <tr>\n",
       "      <th>1</th>\n",
       "      <td>2</td>\n",
       "      <td>07.11.2024</td>\n",
       "      <td>32600,00</td>\n",
       "      <td>За оказание услуг по договору №53Б-02746 от 23...</td>\n",
       "    </tr>\n",
       "    <tr>\n",
       "      <th>2</th>\n",
       "      <td>3</td>\n",
       "      <td>07.11.2024</td>\n",
       "      <td>4710-00</td>\n",
       "      <td>Оплата штрафа</td>\n",
       "    </tr>\n",
       "    <tr>\n",
       "      <th>3</th>\n",
       "      <td>4</td>\n",
       "      <td>07.11.2024</td>\n",
       "      <td>30900-00</td>\n",
       "      <td>Лечение по договору №Д-00359/24 от 08.03.2025</td>\n",
       "    </tr>\n",
       "    <tr>\n",
       "      <th>4</th>\n",
       "      <td>5</td>\n",
       "      <td>07.11.2024</td>\n",
       "      <td>13200.00</td>\n",
       "      <td>Оплата основного долга за период с 16.12.2024г...</td>\n",
       "    </tr>\n",
       "    <tr>\n",
       "      <th>...</th>\n",
       "      <td>...</td>\n",
       "      <td>...</td>\n",
       "      <td>...</td>\n",
       "      <td>...</td>\n",
       "    </tr>\n",
       "    <tr>\n",
       "      <th>24995</th>\n",
       "      <td>24996</td>\n",
       "      <td>07.11.2024</td>\n",
       "      <td>3300000,00</td>\n",
       "      <td>Оплата по договору №Е01905 от 25.02.2023. сырь...</td>\n",
       "    </tr>\n",
       "    <tr>\n",
       "      <th>24996</th>\n",
       "      <td>24997</td>\n",
       "      <td>07.11.2024</td>\n",
       "      <td>2270,00</td>\n",
       "      <td>гос.услуга</td>\n",
       "    </tr>\n",
       "    <tr>\n",
       "      <th>24997</th>\n",
       "      <td>24998</td>\n",
       "      <td>07.11.2024</td>\n",
       "      <td>1750000.00</td>\n",
       "      <td>Предоставление кредита по договору №Д-00803/03...</td>\n",
       "    </tr>\n",
       "    <tr>\n",
       "      <th>24998</th>\n",
       "      <td>24999</td>\n",
       "      <td>07.11.2024</td>\n",
       "      <td>3560.00</td>\n",
       "      <td>Оплата гос. пошлины</td>\n",
       "    </tr>\n",
       "    <tr>\n",
       "      <th>24999</th>\n",
       "      <td>25000</td>\n",
       "      <td>07.11.2024</td>\n",
       "      <td>2910.00</td>\n",
       "      <td>Оплата за Подушечки Любятово с шоколадной начи...</td>\n",
       "    </tr>\n",
       "  </tbody>\n",
       "</table>\n",
       "<p>25000 rows × 4 columns</p>\n",
       "</div>"
      ],
      "text/plain": [
       "       index        date        summ  \\\n",
       "0          1  07.11.2024    40500.00   \n",
       "1          2  07.11.2024    32600,00   \n",
       "2          3  07.11.2024     4710-00   \n",
       "3          4  07.11.2024    30900-00   \n",
       "4          5  07.11.2024    13200.00   \n",
       "...      ...         ...         ...   \n",
       "24995  24996  07.11.2024  3300000,00   \n",
       "24996  24997  07.11.2024     2270,00   \n",
       "24997  24998  07.11.2024  1750000.00   \n",
       "24998  24999  07.11.2024     3560.00   \n",
       "24999  25000  07.11.2024     2910.00   \n",
       "\n",
       "                                                    text  \n",
       "0         За тур.поездку по договору №001 от 27.01.2023г  \n",
       "1      За оказание услуг по договору №53Б-02746 от 23...  \n",
       "2                                          Оплата штрафа  \n",
       "3          Лечение по договору №Д-00359/24 от 08.03.2025  \n",
       "4      Оплата основного долга за период с 16.12.2024г...  \n",
       "...                                                  ...  \n",
       "24995  Оплата по договору №Е01905 от 25.02.2023. сырь...  \n",
       "24996                                         гос.услуга  \n",
       "24997  Предоставление кредита по договору №Д-00803/03...  \n",
       "24998                                Оплата гос. пошлины  \n",
       "24999  Оплата за Подушечки Любятово с шоколадной начи...  \n",
       "\n",
       "[25000 rows x 4 columns]"
      ]
     },
     "execution_count": 24,
     "metadata": {},
     "output_type": "execute_result"
    }
   ],
   "source": [
    "data"
   ]
  },
  {
   "cell_type": "code",
   "execution_count": null,
   "metadata": {},
   "outputs": [],
   "source": []
  }
 ],
 "metadata": {
  "kernelspec": {
   "display_name": "base",
   "language": "python",
   "name": "python3"
  },
  "language_info": {
   "codemirror_mode": {
    "name": "ipython",
    "version": 3
   },
   "file_extension": ".py",
   "mimetype": "text/x-python",
   "name": "python",
   "nbconvert_exporter": "python",
   "pygments_lexer": "ipython3",
   "version": "3.10.9"
  }
 },
 "nbformat": 4,
 "nbformat_minor": 2
}
